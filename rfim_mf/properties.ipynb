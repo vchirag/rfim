{
 "cells": [
  {
   "cell_type": "code",
   "execution_count": null,
   "id": "f3af390e-fffc-49fb-b062-5f28722e8a1a",
   "metadata": {},
   "outputs": [],
   "source": [
    "import numpy as np\n",
    "DTYPE = np.float32\n",
    "\n",
    "from numba import njit\n",
    "import matplotlib.pyplot as plt\n",
    "import pandas as pd\n",
    "import os\n",
    "from tqdm import tqdm"
   ]
  },
  {
   "cell_type": "code",
   "execution_count": null,
   "id": "a80c85c4-9a17-49e7-879e-70425baf7de5",
   "metadata": {},
   "outputs": [],
   "source": [
    "\"\"\"\n",
    "T: Temperature\n",
    "L: Lattice Size\n",
    "J: Interaction Strength\n",
    "h: External Field\n",
    "h_rand: Random local fields\n",
    "m: magnetization\n",
    "z: coord. number\n",
    "\"\"\"\n",
    "\n",
    "@njit\n",
    "def calculate_energy(spins, L, J, h_rand, h, m, z):\n",
    "    energy = 0\n",
    "    energy += 0.5*L*z*J*m**2\n",
    "\n",
    "    for i in range(L):\n",
    "        for j in range(L):\n",
    "            h_eff = h_rand[i, j] + h + m*J*z\n",
    "            energy += -h_eff*spins[i, j]\n",
    "\n",
    "    return energy\n",
    "    \n",
    "@njit\n",
    "def effective_field(i, j, m, h, h_rand, J, z):\n",
    "    return J*z*m + h_rand[i, j] + h\n",
    "    \n",
    "@njit\n",
    "def calculate_magnetization(spins):\n",
    "    return np.sum(spins)\n",
    "    \n",
    "@njit\n",
    "def monte_carlo_step(spins, L, J, T, h_rand, h, m):\n",
    "    i, j = np.random.randint(0, L, size=2)\n",
    "    \n",
    "    h_eff = effective_field(i, j, m, h, h_rand, J, z)\n",
    "\n",
    "    delta_E = 2*spins[i, j]*h_eff\n",
    "   \n",
    "    if delta_E < 0 or np.random.rand() < np.exp(-delta_E/T):\n",
    "        spins[i, j] *= -1  # Flip the spin\n",
    "        m = calculate_magnetization(spins)"
   ]
  },
  {
   "cell_type": "code",
   "execution_count": null,
   "id": "21aa4b1a-0d0f-4540-81fe-a457e6d4e587",
   "metadata": {},
   "outputs": [],
   "source": [
    "L = int(64)\n",
    "# T = DTYPE(np.linspace(1, 20, 50)) # At even lower temperature, equilibriation time difficult to find because of domain growth\n",
    "T = DTYPE(9)\n",
    "J = DTYPE(1)\n",
    "# hs =  DTYPE(np.linspace(0.1, 5, 25))\n",
    "h = 0\n",
    "\n",
    "# Random Fields (normally distributed)\n",
    "std = 0.001\n",
    "h_rand = np.random.normal(0, std, size= (L, L))\n",
    "\n",
    "# MC params\n",
    "mc_steps = int(10000)\n",
    "\n",
    "# Initial config\n",
    "spins = np.random.choice([-1, 1], size=(L, L))  # Random initial spins\n",
    "\n",
    "# Mean Field (2D)\n",
    "z = 4\n"
   ]
  },
  {
   "cell_type": "code",
   "execution_count": null,
   "id": "6e6aab60-4712-4f33-ae22-85fc07e99682",
   "metadata": {},
   "outputs": [],
   "source": [
    "fig, ax = plt.subplots(1, 2, figsize = (10, 5))\n",
    "\n",
    "ax[0].imshow(spins)\n",
    "ax[0].set_xticks(np.arange(0, L, L-1));\n",
    "ax[0].set_yticks(np.arange(0, L, L-1));\n",
    "ax[0].set_title(\"Initial spin configuration\")\n",
    "\n",
    "ax[1].imshow(h_rand)\n",
    "ax[1].set_xticks(np.arange(0, L, L-1));\n",
    "ax[1].set_yticks(np.arange(0, L, L-1));\n",
    "ax[1].set_title(\"randomized fields\")\n",
    "\n",
    "title = f\"L={L}\" + \"\\n\" + f\"J={J:.3f}, h={h:.3f}, T={T:.3f}\" + \"\\n\" + f\"h_rand = N(0, {std:.3f})\"\n",
    "fig.suptitle(title)\n",
    "fig.tight_layout()"
   ]
  },
  {
   "cell_type": "code",
   "execution_count": null,
   "id": "8b699b34-7da3-427a-ab21-acbe9255e542",
   "metadata": {
    "scrolled": true
   },
   "outputs": [],
   "source": [
    "energies = []\n",
    "magnetizations = []\n",
    "\n",
    "m = calculate_magnetization(spins)\n",
    "\n",
    "for step in tqdm(range(mc_steps)):\n",
    "    if step % 100 == 0:  # Save data every 100 steps\n",
    "        energies.append(calculate_energy(spins, L, J, h_rand, h, m, z))\n",
    "        magnetizations.append(np.mean(spins))\n",
    "        \n",
    "        # fig, ax = plt.subplots()\n",
    "        # ax.imshow(spins)\n",
    "    monte_carlo_step(spins, L, J, T, h_rand, h, m)\n"
   ]
  },
  {
   "cell_type": "code",
   "execution_count": null,
   "id": "65e262d5-b1a0-471f-acdc-3bbeea99c773",
   "metadata": {},
   "outputs": [],
   "source": [
    "\n",
    "fig, ax = plt.subplots(1, 3, figsize = (15, 5))\n",
    "\n",
    "ax[0].plot(energies, label=\"Energy\")\n",
    "ax[0].set_xlabel(\"Monte Carlo Steps\")\n",
    "ax[0].set_ylabel(\"Energy\")\n",
    "ax[0].set_title(\"Energy vs. Monte Carlo Steps\")\n",
    "\n",
    "ax[1].plot(magnetizations, label=\"Magnetization\", color=\"orange\")\n",
    "ax[1].set_xlabel(\"Monte Carlo Steps\")\n",
    "ax[1].set_ylabel(\"Magnetization\")\n",
    "ax[1].set_title(\"Magnetization vs. Monte Carlo Steps\")\n",
    "\n",
    "ax[2].imshow(spins)\n",
    "ax[2].set_xticks(np.arange(0, L, L-1));\n",
    "ax[2].set_yticks(np.arange(0, L, L-1));\n",
    "ax[2].set_title(\"final spin config.\")\n",
    "\n",
    "\n",
    "title = f\"L={L}\" + \"\\n\" + f\"J={J:.3f}, h={h:.3f}, T={T:.3f}\" + \"\\n\" + f\"h_rand = N(0, {std:.3f})\"\n",
    "fig.suptitle(title)\n",
    "fig.tight_layout()"
   ]
  },
  {
   "cell_type": "code",
   "execution_count": null,
   "id": "0002443c-5408-41c7-a75d-601877c1f326",
   "metadata": {},
   "outputs": [],
   "source": []
  },
  {
   "cell_type": "code",
   "execution_count": null,
   "id": "af9f3bd3-be82-4935-a32e-3c348d91f640",
   "metadata": {},
   "outputs": [],
   "source": []
  }
 ],
 "metadata": {
  "kernelspec": {
   "display_name": "Python 3 (ipykernel)",
   "language": "python",
   "name": "python3"
  },
  "language_info": {
   "codemirror_mode": {
    "name": "ipython",
    "version": 3
   },
   "file_extension": ".py",
   "mimetype": "text/x-python",
   "name": "python",
   "nbconvert_exporter": "python",
   "pygments_lexer": "ipython3",
   "version": "3.12.2"
  }
 },
 "nbformat": 4,
 "nbformat_minor": 5
}
