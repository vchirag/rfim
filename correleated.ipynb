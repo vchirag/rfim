{
 "cells": [
  {
   "cell_type": "code",
   "execution_count": 1,
   "id": "a3063119-fae1-49d8-b143-93c92999a079",
   "metadata": {},
   "outputs": [],
   "source": [
    "import numpy as np\n",
    "from sortedcontainers import SortedDict\n",
    "import matplotlib.pyplot as plt\n",
    "from tqdm import tqdm"
   ]
  },
  {
   "cell_type": "code",
   "execution_count": 2,
   "id": "4e3d86fc-b8f5-4840-8b84-79fa241df381",
   "metadata": {},
   "outputs": [],
   "source": [
    "# BST-based MaxHeapItem replacement\n",
    "class BSTManager:\n",
    "    def __init__(self):\n",
    "        self.bst = SortedDict()  # BST to store (value, indices) pairs\n",
    "        self.index_to_value = {}  # Dictionary to map indices to their values\n",
    "\n",
    "    def add_item(self, value, indices):\n",
    "        if value not in self.bst:\n",
    "            self.bst[value] = []\n",
    "        self.bst[value].append(indices)  # Add indices to the value's list\n",
    "        self.index_to_value[indices] = value  # Update index-to-value mapping\n",
    "\n",
    "    def delete_item(self, indices):\n",
    "        if indices in self.index_to_value:\n",
    "            value = self.index_to_value[indices]\n",
    "            self.bst[value].remove(indices)  # Remove indices from the value's list\n",
    "            if not self.bst[value]:  # If the list is empty, remove the value from the BST\n",
    "                del self.bst[value]\n",
    "            del self.index_to_value[indices]  # Remove from index-to-value mapping\n",
    "\n",
    "    def pop_largest(self):\n",
    "        if not self.bst:\n",
    "            return None  # BST is empty\n",
    "        largest_value = self.bst.keys()[-1]  # Get the largest value\n",
    "        indices = self.bst[largest_value].pop(0)  # Remove the first indices with this value\n",
    "        if not self.bst[largest_value]:  # If the list is empty, remove the value from the BST\n",
    "            del self.bst[largest_value]\n",
    "        del self.index_to_value[indices]  # Remove from index-to-value mapping\n",
    "        return largest_value, indices\n",
    "\n",
    "    def update_item(self, indices, new_value):\n",
    "        self.delete_item(indices)  # Remove the old value\n",
    "        self.add_item(new_value, indices)  # Add the new value"
   ]
  },
  {
   "cell_type": "code",
   "execution_count": 3,
   "id": "4918cd39-787b-40b7-8cf9-abe3f4e56a4f",
   "metadata": {},
   "outputs": [],
   "source": [
    "# Simulation functions\n",
    "def change_spin_at(i, j, k, state):\n",
    "    spins[i, j, k] = state\n",
    "    if state == 1:\n",
    "        bst_manager.delete_item((i, j, k))\n",
    "\n",
    "def change_field_at(i, j, k, delF):\n",
    "    if spins[i, j, k] == -1:\n",
    "        old_value = local_fields[i, j, k]\n",
    "        new_value = old_value + delF\n",
    "        bst_manager.update_item((i, j, k), new_value)\n",
    "        local_fields[i, j, k] = new_value\n",
    "\n",
    "def flip(i, j, k, queue, avl, time):\n",
    "    i, j, k = i % N, j % N, k % N\n",
    "    change_spin_at(i, j, k, state=1)\n",
    "    avalanches[i, j, k] = avl\n",
    "    times[i, j, k] = time\n",
    "\n",
    "    neighbours = [\n",
    "        [(i + 1) % N, j, k], [(i - 1) % N, j, k],\n",
    "        [i, (j + 1) % N, k], [i, (j - 1) % N, k],\n",
    "        [i, j, (k + 1) % N], [i, j, (k - 1) % N]\n",
    "    ]\n",
    "    for neighbour in neighbours:\n",
    "        if spins[neighbour[0], neighbour[1], neighbour[2]] == -1:\n",
    "            change_field_at(neighbour[0], neighbour[1], neighbour[2], 2 * J)\n",
    "            queue.append((neighbour[0], neighbour[1], neighbour[2]))\n",
    "\n",
    "def avalanche_statistics(avalanches_array, times_array):\n",
    "    max_avalanche_id = int(np.max(avalanches_array))\n",
    "    avalanche_sizes = np.zeros(max_avalanche_id + 1, dtype=np.int64)\n",
    "    avalanche_start_times = np.zeros(max_avalanche_id + 1, dtype=np.int64)\n",
    "    avalanche_end_times = np.zeros(max_avalanche_id + 1, dtype=np.int64)\n",
    "\n",
    "    for avalanche_id, flip_time in zip(avalanches_array.flat, times_array.flat):\n",
    "        if avalanche_id == 0:\n",
    "            continue\n",
    "        if avalanche_sizes[avalanche_id] == 0:\n",
    "            avalanche_start_times[avalanche_id] = flip_time\n",
    "            avalanche_end_times[avalanche_id] = flip_time\n",
    "        avalanche_start_times[avalanche_id] = min(avalanche_start_times[avalanche_id], flip_time)\n",
    "        avalanche_end_times[avalanche_id] = max(avalanche_end_times[avalanche_id], flip_time)\n",
    "        avalanche_sizes[avalanche_id] += 1\n",
    "\n",
    "    avalanche_sizes = avalanche_sizes[1:]\n",
    "    avalanche_start_times = avalanche_start_times[1:]\n",
    "    avalanche_end_times = avalanche_end_times[1:]\n",
    "    avalanche_durations = avalanche_end_times - avalanche_start_times + 1\n",
    "\n",
    "    return avalanche_sizes, avalanche_durations"
   ]
  },
  {
   "cell_type": "code",
   "execution_count": 4,
   "id": "a34725eb-b69d-4848-b541-4ecd86132381",
   "metadata": {
    "scrolled": true
   },
   "outputs": [],
   "source": [
    "def generate_correlated_gaussian_matrix_fft(n, sigma, correlation_length):\n",
    "    # Generate white noise field\n",
    "    white_noise = np.random.normal(0, 1, (n, n, n))\n",
    "\n",
    "    # Compute the power spectrum (Fourier transform of the covariance function)\n",
    "    kx = np.fft.fftfreq(n).reshape(n, 1)\n",
    "    ky = np.fft.fftfreq(n).reshape(1, n)\n",
    "    k_squared = kx**2 + ky**2\n",
    "    power_spectrum = sigma**2 * np.exp(-k_squared * correlation_length**2 / 2)\n",
    "\n",
    "    # Apply the power spectrum to the white noise field\n",
    "    correlated_field = np.fft.ifft2(np.fft.fft2(white_noise) * np.sqrt(power_spectrum)).real\n",
    "    return correlated_field"
   ]
  },
  {
   "cell_type": "code",
   "execution_count": 47,
   "id": "2ec6ad8b-8a58-43b4-aca6-6417ad173c32",
   "metadata": {},
   "outputs": [],
   "source": [
    "N = 100\n",
    "J = 1\n",
    "correlation_length = int(3)\n"
   ]
  },
  {
   "cell_type": "code",
   "execution_count": 48,
   "id": "ddeabe80-b092-498f-abf7-5cff2b21c247",
   "metadata": {},
   "outputs": [],
   "source": [
    "matrix = generate_correlated_gaussian_matrix_fft(N, 2, correlation_length)"
   ]
  },
  {
   "cell_type": "code",
   "execution_count": 51,
   "id": "8a4d61fc-457c-459c-ab79-70a0f6188ac5",
   "metadata": {},
   "outputs": [
    {
     "data": {
      "text/plain": [
       "<matplotlib.image.AxesImage at 0x7617a4f18200>"
      ]
     },
     "execution_count": 51,
     "metadata": {},
     "output_type": "execute_result"
    },
    {
     "data": {
      "image/png": "[encoded data removed]",
      "text/plain": [
       "<Figure size 640x480 with 1 Axes>"
      ]
     },
     "metadata": {},
     "output_type": "display_data"
    }
   ],
   "source": [
    "plt.imshow(matrix[:,5, :])"
   ]
  },
  {
   "cell_type": "code",
   "execution_count": null,
   "id": "7a4bda9c-e41d-47cf-ad1b-37c6fd60d3e4",
   "metadata": {},
   "outputs": [
    {
     "name": "stderr",
     "output_type": "stream",
     "text": [
      "Processing spins: R = 2.25:   1%| | 5726/1000000 [00:20<1:00:45, 272.76spin/\n"
     ]
    },
    {
     "name": "stdout",
     "output_type": "stream",
     "text": [
      "Simulation completed.\n"
     ]
    },
    {
     "name": "stderr",
     "output_type": "stream",
     "text": [
      "Processing spins: R = 2.5:   1%| | 11144/1000000 [00:21<31:04, 530.42spin/s]\n"
     ]
    },
    {
     "name": "stdout",
     "output_type": "stream",
     "text": [
      "Simulation completed.\n"
     ]
    },
    {
     "name": "stderr",
     "output_type": "stream",
     "text": [
      "Processing spins: R = 2.75:   2%| | 21407/1000000 [00:21<16:39, 978.69spin/s\n"
     ]
    },
    {
     "name": "stdout",
     "output_type": "stream",
     "text": [
      "Simulation completed.\n"
     ]
    },
    {
     "name": "stderr",
     "output_type": "stream",
     "text": [
      "Processing spins: R = 3:   4%|  | 37048/1000000 [00:25<10:59, 1460.44spin/s]\n"
     ]
    },
    {
     "name": "stdout",
     "output_type": "stream",
     "text": [
      "Simulation completed.\n"
     ]
    },
    {
     "name": "stderr",
     "output_type": "stream",
     "text": [
      "Processing spins: R = 3.25:   6%| | 56051/1000000 [00:29<08:10, 1924.85spin/\n"
     ]
    },
    {
     "name": "stdout",
     "output_type": "stream",
     "text": [
      "Simulation completed.\n"
     ]
    },
    {
     "name": "stderr",
     "output_type": "stream",
     "text": [
      "Processing spins: R = 3.5:   8%| | 78392/1000000 [00:34<06:42, 2288.09spin/s\n"
     ]
    },
    {
     "name": "stdout",
     "output_type": "stream",
     "text": [
      "Simulation completed.\n"
     ]
    },
    {
     "name": "stderr",
     "output_type": "stream",
     "text": [
      "Processing spins: R = 3.75:  10%| | 101595/1000000 [00:36<05:19, 2814.64spin\n"
     ]
    },
    {
     "name": "stdout",
     "output_type": "stream",
     "text": [
      "Simulation completed.\n"
     ]
    },
    {
     "name": "stderr",
     "output_type": "stream",
     "text": [
      "Processing spins: R = 4:  10%|▏ | 95638/1000000 [00:31<06:39, 2263.18spin/s]"
     ]
    }
   ],
   "source": [
    "Rs = [2.25, 2.5, 2.75, 3, 3.25, 3.5, 3.75, 4]\n",
    "avalanches_for_different_Rs = []\n",
    "times_for_different_Rs = []\n",
    "magnetizations_for_different_Rs = []\n",
    "Hs_for_different_Rs = []\n",
    "\n",
    "for R in Rs:\n",
    "    spins = -np.ones((N, N, N))\n",
    "    # h = np.random.normal(0, R, (N, N, N))\n",
    "    h = generate_correlated_gaussian_matrix_fft(N, R, correlation_length)\n",
    "    \n",
    "    # H = -np.max(h)\n",
    "    H = -N # large negative value\n",
    "    local_fields = H + h\n",
    "    avalanches = np.zeros((N, N, N), dtype = np.int32)\n",
    "    times = np.zeros((N, N, N), dtype = np.int32)\n",
    "    magnetization = []\n",
    "    H_list = []\n",
    "\n",
    "    # Initialize BST manager\n",
    "    bst_manager = BSTManager()\n",
    "    for i in range(N):\n",
    "        for j in range(N):\n",
    "            for k in range(N):\n",
    "                bst_manager.add_item(local_fields[i, j, k], (i, j, k))\n",
    "    \n",
    "    # Simulation parameters\n",
    "    spins_left = N**3\n",
    "    spins_flipped = 0\n",
    "    queue = []\n",
    "    avl = 1\n",
    "    time = 0\n",
    "\n",
    "    with tqdm(total=spins_left, desc=f\"Processing spins: R = {R}\", unit=\"spin\") as pbar:\n",
    "        while spins_left > 0:\n",
    "            time += 1\n",
    "            if spins_flipped == 0:\n",
    "                current_item = bst_manager.pop_largest()\n",
    "                if current_item is None:\n",
    "                    print(\"BST is empty. Exiting loop.\")\n",
    "                    break\n",
    "        \n",
    "                H, (i, j, k) = current_item\n",
    "                spins_flipped += 1\n",
    "                spins_left -= 1\n",
    "                flip(i, j, k, queue, avl, time)\n",
    "                pbar.update(1)  # Update the progress bar by 1 spin\n",
    "                \n",
    "                M = np.mean(spins)  # Compute magnetization\n",
    "                \n",
    "                magnetization.append(M)\n",
    "                H_list.append(-H)\n",
    "\n",
    "            else:\n",
    "                spins_flipped = 0\n",
    "                new_queue = []\n",
    "                for (i, j, k) in queue:\n",
    "                    if local_fields[i, j, k] >= H:\n",
    "                        if spins[i, j, k] == -1:\n",
    "                            spins_left -= 1\n",
    "                            spins_flipped += 1\n",
    "                            flip(i, j, k, new_queue, avl, time)\n",
    "                queue = new_queue\n",
    "                if spins_flipped == 0:\n",
    "                    avl += 1\n",
    "        \n",
    "        print(\"Simulation completed.\")\n",
    "    avalanches_for_different_Rs.append(avalanches)\n",
    "    times_for_different_Rs.append(times)\n",
    "    magnetizations_for_different_Rs.append(magnetization)\n",
    "    Hs_for_different_Rs.append(H_list)\n"
   ]
  },
  {
   "cell_type": "code",
   "execution_count": null,
   "id": "726b92e3-ab93-4448-b588-6451c4a2c4bd",
   "metadata": {},
   "outputs": [],
   "source": [
    "for idx, R in enumerate(Rs):\n",
    "    plt.plot(Hs_for_different_Rs[idx], magnetizations_for_different_Rs[idx], label = f\"R = {R}\")\n",
    "plt.legend(loc = \"upper right\")"
   ]
  },
  {
   "cell_type": "code",
   "execution_count": null,
   "id": "afac19fc-c311-4f58-9f48-58985415e6e8",
   "metadata": {},
   "outputs": [],
   "source": [
    "fig, ax = plt.subplots(figsize = (10, 5))\n",
    "\n",
    "for idx, R in enumerate(Rs):\n",
    "    avalanche_sizes, avalanche_durations = avalanche_statistics(avalanches_for_different_Rs[idx], times_for_different_Rs[idx])\n",
    "\n",
    "    hist, bin_edges = np.histogram(avalanche_sizes, bins=np.logspace(0, np.log10(max(avalanche_sizes)), 100), density=True)\n",
    "    bin_centers = (bin_edges[:-1] + bin_edges[1:]) / 2\n",
    "    \n",
    "    # Filter out zero values in the histogram (log(0) is undefined)\n",
    "    valid_indices = hist > 0\n",
    "    bin_centers = bin_centers[valid_indices]\n",
    "    hist = hist[valid_indices]\n",
    "    ax.plot(bin_centers, hist, linestyle = \"-\", label = f\"R={R}\")\n",
    "    \n",
    "ax.set_xscale(\"log\")\n",
    "ax.set_yscale(\"log\")\n",
    "ax.legend(loc = \"upper right\")"
   ]
  },
  {
   "cell_type": "code",
   "execution_count": null,
   "id": "89ce842b-0a66-4635-b044-a66b15cf678a",
   "metadata": {},
   "outputs": [],
   "source": [
    "sigma = 0.24\n",
    "tau = 2.03\n",
    "Rc = 2.16\n",
    "\n",
    "fig, ax = plt.subplots(figsize = (10, 5))\n",
    "\n",
    "for idx, R in enumerate(Rs):\n",
    "    # R = Rs[idx]\n",
    "    r = (R - Rc)/Rc\n",
    "    avalanche_sizes, _ = avalanche_statistics(avalanches_for_different_Rs[idx], times_for_different_Rs[idx])\n",
    "    \n",
    "    bin_edges = np.logspace(np.log10(min(avalanche_sizes)), np.log10(max(avalanche_sizes)), 50)\n",
    "    hist, _ = np.histogram(avalanche_sizes, bins=bin_edges, density=True)\n",
    "    \n",
    "    S = np.sqrt(bin_edges[:-1] * bin_edges[1:])\n",
    "    mask = (S < 10**4) & (S > 10)\n",
    "    S = S[mask]\n",
    "    hist = hist[mask]\n",
    "    \n",
    "    X_scaled = S**sigma*r\n",
    "    D_scaled = (S**tau)*hist\n",
    "    D_scaled /= np.max(D_scaled)\n",
    "    \n",
    "    ax.plot(X_scaled, D_scaled, label = f\"R={R}\")\n",
    "    # plt.xscale(\"log\")\n",
    "ax.legend(loc = \"upper right\")\n",
    "ax.set_xlabel(r\"$S^\\sigma r$\")\n",
    "ax.set_ylabel(r\"$S^\\tau D_{\\text{int}}S^{\\sigma r}$\")"
   ]
  },
  {
   "cell_type": "code",
   "execution_count": null,
   "id": "9e9a69cd-9207-4719-8213-035c94f8ce37",
   "metadata": {},
   "outputs": [],
   "source": []
  }
 ],
 "metadata": {
  "kernelspec": {
   "display_name": "Python 3 (ipykernel)",
   "language": "python",
   "name": "python3"
  },
  "language_info": {
   "codemirror_mode": {
    "name": "ipython",
    "version": 3
   },
   "file_extension": ".py",
   "mimetype": "text/x-python",
   "name": "python",
   "nbconvert_exporter": "python",
   "pygments_lexer": "ipython3",
   "version": "3.12.2"
  }
 },
 "nbformat": 4,
 "nbformat_minor": 5
}
